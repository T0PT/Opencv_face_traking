{
 "cells": [
  {
   "cell_type": "code",
   "execution_count": 3,
   "metadata": {},
   "outputs": [],
   "source": [
    "import numpy as np\n",
    "import time\n",
    "import cv2"
   ]
  },
  {
   "cell_type": "code",
   "execution_count": 11,
   "metadata": {},
   "outputs": [],
   "source": [
    "cap=cv2.VideoCapture(0)\n",
    "face_cascade=cv2.CascadeClassifier(cv2.data.haarcascades + \"haarcascade_frontalface_default.xml\")\n",
    "eye_cascade=cv2.CascadeClassifier(cv2.data.haarcascades + \"haarcascade_eye_tree_eyeglasses.xml\") #Note the change"
   ]
  },
  {
   "cell_type": "code",
   "execution_count": 12,
   "metadata": {},
   "outputs": [],
   "source": [
    "\n",
    "while True:\n",
    "    ret,img=cap.read()\n",
    "    gray_img=cv2.cvtColor(img,cv2.COLOR_BGR2GRAY)\n",
    "    faces=face_cascade.detectMultiScale(gray_img, scaleFactor=1.05,minNeighbors=5)\n",
    "    eyes=eye_cascade.detectMultiScale(gray_img, scaleFactor=1.05,minNeighbors=5)\n",
    "    for x, y, w, h in faces:\n",
    "        img=cv2.rectangle(img,(x,y),(x+w,y+h),(0,255,0),3)\n",
    "        for (x2,y2,w2,h2) in eyes:\n",
    "            eye_center = (x2 + w2//2, y2 + h2//2)\n",
    "            radius = int(round((w2 + h2)*0.25))\n",
    "            img = cv2.circle(img, eye_center, radius, (255, 0, 0 ), 4)\n",
    "    #resized=cv2.resize(img,(int(img.shape[1]/3), int(img.shape[0]/3)))\n",
    "    cv2.imshow(\"Deteced-face\",img)\n",
    "    if cv2.waitKey(1) == ord('q'): # wait for 1 millisecond and check if 'q' is pressed\n",
    "        break # break the loop if 'q' is pressed\n",
    "cap.release()\n",
    "cv2.destroyAllWindows()"
   ]
  }
 ],
 "metadata": {
  "kernelspec": {
   "display_name": "Python 3",
   "language": "python",
   "name": "python3"
  },
  "language_info": {
   "codemirror_mode": {
    "name": "ipython",
    "version": 3
   },
   "file_extension": ".py",
   "mimetype": "text/x-python",
   "name": "python",
   "nbconvert_exporter": "python",
   "pygments_lexer": "ipython3",
   "version": "3.8.10"
  },
  "orig_nbformat": 4
 },
 "nbformat": 4,
 "nbformat_minor": 2
}
