{
 "cells": [
  {
   "cell_type": "code",
   "execution_count": 11,
   "metadata": {},
   "outputs": [],
   "source": [
    "import numpy as np\n",
    "import time\n",
    "import cv2 as cv"
   ]
  },
  {
   "cell_type": "code",
   "execution_count": 12,
   "metadata": {},
   "outputs": [],
   "source": [
    "cap = cv.VideoCapture(0) #capture video from webcam\n",
    "face_cascade = cv.CascadeClassifier(cv.data.haarcascades + \"haarcascade_frontalface_alt.xml\")#define cascade classifier for face detection  \n",
    "eye_cascade = cv.CascadeClassifier(cv.data.haarcascades + \"haarcascade_eye.xml\")#define cascade classifier for eye detection\n",
    "emotion_cascade = cv.CascadeClassifier(cv.data.haarcascades + \"haarcascade_smile.xml\")#define cascade classifier for smile detection"
   ]
  },
  {
   "cell_type": "code",
   "execution_count": 13,
   "metadata": {},
   "outputs": [],
   "source": [
    "#write a python program to get live video feed from camera, use opencv to find faces in it and display it on your screen.\n",
    "while True: \n",
    "    ret, frame = cap.read() #read frame from webcam \n",
    "    if ret == False: \n",
    "        continue \n",
    "\n",
    "    faces = face_cascade.detectMultiScale(frame, 1.3, 5) #detect faces in frame\n",
    "    eyes = eye_cascade.detectMultiScale(frame, 1.3, 5) #detect eyes in frame\n",
    "    smiles= emotion_cascade.detectMultiScale(frame, 1.3, 5) #detect smiles in frame\n",
    "\n",
    "    for (x,y,w,h) in faces: #draw rectangle around each face\n",
    "        cv.rectangle(frame, (x,y), (x+w, y+h), (255,0,0), 2)\n",
    "    for (x,y,w,h) in eyes: #draw circle around each eye\n",
    "        cv.circle(frame, (x+w//2, y+h//2), 25, (0,0,255), 2)\n",
    "    for (x,y,w,h) in smiles: #draw ellipse around each smile in green \n",
    "        cv.ellipse(frame, (x+w//2, y+h//2), (w//2,h//2), 0, 0, 360, (0,255,0), 2)\n",
    "    \n",
    "    cv.imshow(\"Video Frame\", frame) #show frame \n",
    "    key_pressed = cv.waitKey(1) & 0xFF #wait for 1 ms and get pressed key \n",
    "    if key_pressed == ord('q'): #if 'q' is pressed, break out of loop \n",
    "        break \n",
    "\n",
    "cap.release() #release webcam \n",
    "cv.destroyAllWindows() #close all windows"
   ]
  }
 ],
 "metadata": {
  "kernelspec": {
   "display_name": "Python 3",
   "language": "python",
   "name": "python3"
  },
  "language_info": {
   "codemirror_mode": {
    "name": "ipython",
    "version": 3
   },
   "file_extension": ".py",
   "mimetype": "text/x-python",
   "name": "python",
   "nbconvert_exporter": "python",
   "pygments_lexer": "ipython3",
   "version": "3.8.10"
  },
  "orig_nbformat": 4,
  "vscode": {
   "interpreter": {
    "hash": "1fd2a919270971e76d246c0ffd5a089272b911b92146131cce460b1d8c4074d0"
   }
  }
 },
 "nbformat": 4,
 "nbformat_minor": 2
}
